{
 "cells": [
  {
   "cell_type": "markdown",
   "metadata": {},
   "source": [
    "# E-bay car sales analysis\n",
    "### Hemanth Soni, July 2020\n",
    "\n",
    "---\n",
    "\n",
    "The goal for this project is to clean and analyze a subset of eBay car sales data. The [original database](https://www.kaggle.com/orgesleka/used-cars-database/data) was uploaded to Kaggle, but [Dataquest](https://dataquest.io) has created a version that is smaller (50K rows) and dirtier to help practice data cleaning.\n",
    "\n",
    "The aim of this project is to clean the data and analyze the included used car listings."
   ]
  },
  {
   "cell_type": "markdown",
   "metadata": {},
   "source": [
    "## Importing data\n",
    "\n",
    "I'll start by setting up the working environment first"
   ]
  },
  {
   "cell_type": "code",
   "execution_count": 5,
   "metadata": {},
   "outputs": [],
   "source": [
    "#Importing libraries\n",
    "\n",
    "import numpy as np\n",
    "import pandas as pd\n",
    "\n",
    "# Loading CSV to file\n",
    "\n",
    "autos = pd.read_csv('car_data/autos.csv', encoding='Latin-1')"
   ]
  },
  {
   "cell_type": "code",
   "execution_count": null,
   "metadata": {},
   "outputs": [],
   "source": [
    "# Quick exploration\n",
    "\n",
    "autos.info()\n",
    "print()\n",
    "print(autos.head())\n",
    "print()\n",
    "autos.describe(include='all')"
   ]
  },
  {
   "cell_type": "markdown",
   "metadata": {},
   "source": [
    "From this quick scan, a few things become apparent:\n",
    "* Most columns contain string types, but some (eg. odometer) could probably be integers or floats, and some (eg. damage) could probably be boolean\n",
    "* The data looks mostly complete, with a few columns that have some null data but nothing that stands out too much\n",
    "* The 'seller' and 'offerType' column have every row except one containing the same values, could be candidates to get dropped\n",
    "* There seem to be some errors in the yearOfRegistration column; the minimum is too early and the max is too high, but most values seem right\n",
    "* The power also seems too high for the max level\n",
    "* A \"0\" month of registration doesn't make sense given there's a 12'th month of registraton as well; will need to dig into this error\n",
    "* There are some 4-digit postal codes; need to dig into if that makes sense\n",
    "* The number of pictures is 0 across the board? Should dig into that column as well"
   ]
  },
  {
   "cell_type": "markdown",
   "metadata": {},
   "source": [
    "## Cleaning data\n",
    "\n",
    "Starting with some basic header hygiene:"
   ]
  },
  {
   "cell_type": "code",
   "execution_count": 15,
   "metadata": {},
   "outputs": [],
   "source": [
    "# Replacing columns in place w/ snakecase names\n",
    "autos.columns = ['date_crawled', 'name', 'seller', 'offer_type', 'price', 'abtest',\n",
    "       'vehicle_type', 'registration_year', 'gearbox', 'ps_power', 'model',\n",
    "       'odometer', 'registration_month', 'fuel_type', 'brand',\n",
    "       'unrepaired_damage', 'ad_created', 'num_pics', 'postal',\n",
    "       'last_seen']"
   ]
  },
  {
   "cell_type": "markdown",
   "metadata": {},
   "source": [
    "Next replacing data that can be integers as integers"
   ]
  },
  {
   "cell_type": "code",
   "execution_count": null,
   "metadata": {},
   "outputs": [],
   "source": [
    "# Taking a look at what the price format typically looks like\n",
    "print(autos['price'].value_counts())\n",
    "\n",
    "# Removing dollar signs and commas to leave only numbers\n",
    "autos['price'] = autos['price'].str.replace('$','').str.replace(',','')"
   ]
  },
  {
   "cell_type": "code",
   "execution_count": null,
   "metadata": {},
   "outputs": [],
   "source": [
    "# Doing the same for the odometer column\n",
    "print(autos['odometer'].value_counts())\n",
    "\n",
    "# Removing commas and \"km\" from each item\n",
    "autos['odometer'] = autos['odometer'].str.replace('km','').str.replace(',','')"
   ]
  },
  {
   "cell_type": "code",
   "execution_count": null,
   "metadata": {},
   "outputs": [],
   "source": [
    "# Exploring some of the things mentioned above\n",
    "\n",
    "print(autos['seller'].value_counts())\n",
    "print()\n",
    "print(autos['offer_type'].value_counts())\n",
    "print()\n",
    "print(autos[autos['seller'] != 'privat'])\n",
    "print()\n",
    "print(autos[autos['offer_type'] != 'Angebot'])"
   ]
  },
  {
   "cell_type": "code",
   "execution_count": 29,
   "metadata": {},
   "outputs": [],
   "source": [
    "# It's unclear why these are different (don't appear to be obious errors in any way); I'll drop these columns.\n",
    "autos = autos.drop(columns=['seller','offer_type'])"
   ]
  },
  {
   "cell_type": "code",
   "execution_count": null,
   "metadata": {},
   "outputs": [],
   "source": []
  }
 ],
 "metadata": {
  "kernelspec": {
   "display_name": "Python 3",
   "language": "python",
   "name": "python3"
  },
  "language_info": {
   "codemirror_mode": {
    "name": "ipython",
    "version": 3
   },
   "file_extension": ".py",
   "mimetype": "text/x-python",
   "name": "python",
   "nbconvert_exporter": "python",
   "pygments_lexer": "ipython3",
   "version": "3.8.3"
  }
 },
 "nbformat": 4,
 "nbformat_minor": 4
}
