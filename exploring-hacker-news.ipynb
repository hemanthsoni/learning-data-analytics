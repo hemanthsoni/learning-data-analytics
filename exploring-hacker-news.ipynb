{
 "cells": [
  {
   "cell_type": "markdown",
   "metadata": {},
   "source": [
    "# Exploring Hacker News Posts\n",
    "### Hemanth Soni, June 2020\n",
    "\n",
    "---\n",
    "\n",
    "## Introduction and Overview\n",
    "\n",
    "The goal of this project is to analyze a dataset of posts from [Hacker News](https://news.ycombinator.com/) to understand...\n",
    "1. Do Ask HN or Show HN receive more comments on average?\n",
    "2. Do posts created at a certain time receive more comments on average?"
   ]
  },
  {
   "cell_type": "markdown",
   "metadata": {},
   "source": [
    "## Importing data\n",
    "\n",
    "I will start by importing the necessary data into the project: a subset of the [full data set from Kaggle](https://www.kaggle.com/hacker-news/hacker-news-posts). This subset was simplified by the Dataquest team to remove all submissions that didn't receive any comments, and then randomly sample the remaining submissions to a more manageable 20K rows (the original dataset has ~300k)."
   ]
  },
  {
   "cell_type": "code",
   "execution_count": 22,
   "metadata": {},
   "outputs": [
    {
     "name": "stdout",
     "output_type": "stream",
     "text": [
      "['id', 'title', 'url', 'num_points', 'num_comments', 'author', 'created_at']\n",
      "[['12224879', 'Interactive Dynamic Video', 'http://www.interactivedynamicvideo.com/', '386', '52', 'ne0phyte', '8/4/2016 11:52'], ['10975351', 'How to Use Open Source and Shut the Fuck Up at the Same Time', 'http://hueniverse.com/2016/01/26/how-to-use-open-source-and-shut-the-fuck-up-at-the-same-time/', '39', '10', 'josep2', '1/26/2016 19:30'], ['11964716', \"Florida DJs May Face Felony for April Fools' Water Joke\", 'http://www.thewire.com/entertainment/2013/04/florida-djs-april-fools-water-joke/63798/', '2', '1', 'vezycash', '6/23/2016 22:20'], ['11919867', 'Technology ventures: From Idea to Enterprise', 'https://www.amazon.com/Technology-Ventures-Enterprise-Thomas-Byers/dp/0073523429', '3', '1', 'hswarna', '6/17/2016 0:01'], ['10301696', 'Note by Note: The Making of Steinway L1037 (2007)', 'http://www.nytimes.com/2007/11/07/movies/07stein.html?_r=0', '8', '2', 'walterbell', '9/30/2015 4:12']]\n"
     ]
    }
   ],
   "source": [
    "# Opening file and saving to list\n",
    "from csv import reader\n",
    "opened_file = open('hacker_news_posts/hacker_news.csv')\n",
    "read_file = reader(opened_file)\n",
    "hn = list(read_file)\n",
    "\n",
    "# Splitting out header and table\n",
    "headers = hn[0]\n",
    "hn = hn[1:]\n",
    "\n",
    "print(headers)\n",
    "print(hn[0:5])"
   ]
  },
  {
   "cell_type": "markdown",
   "metadata": {},
   "source": [
    "## Splitting lists into sub-lists\n",
    "\n",
    "I'll now split out the list into three separate groups: one for Ask posts, one for Show posts, and one for everything else. This will make it easier to conduct the analysis on each type of post and compare them."
   ]
  },
  {
   "cell_type": "code",
   "execution_count": 14,
   "metadata": {},
   "outputs": [
    {
     "name": "stdout",
     "output_type": "stream",
     "text": [
      "Total Ask posts: 1744\n",
      "Total Show posts: 1162\n",
      "Other posts: 17194\n"
     ]
    }
   ],
   "source": [
    "ask_posts = []\n",
    "show_posts = []\n",
    "other_posts = []\n",
    "\n",
    "for each in hn:\n",
    "    title = each[1]\n",
    "    \n",
    "    if title.lower().startswith('ask hn'):\n",
    "        ask_posts.append(each)\n",
    "    elif title.lower().startswith('show hn'):\n",
    "        show_posts.append(each)\n",
    "    else:\n",
    "        other_posts.append(each)\n",
    "        \n",
    "print('Total Ask posts:',len(ask_posts))\n",
    "print('Total Show posts:',len(show_posts))\n",
    "print('Other posts:',len(other_posts))"
   ]
  },
  {
   "cell_type": "markdown",
   "metadata": {},
   "source": [
    "## Comparing \"Ask\" vs. \"Show\" posts\n",
    "\n",
    "Now that each type of post is in its own list, we can compare and contrast the two to see which drives greater engagement on the platform"
   ]
  },
  {
   "cell_type": "markdown",
   "metadata": {},
   "source": [
    "### Comparing engagement by comments"
   ]
  },
  {
   "cell_type": "code",
   "execution_count": 66,
   "metadata": {},
   "outputs": [
    {
     "name": "stdout",
     "output_type": "stream",
     "text": [
      "Total: 24483\n",
      "Count: 1744\n",
      "Average: 14.038417431192661\n",
      "\n",
      "Total: 11988\n",
      "Count: 1162\n",
      "Average: 10.31669535283993\n",
      "\n"
     ]
    }
   ],
   "source": [
    "def indexCalc(dataset, index):\n",
    "    \n",
    "    total = 0\n",
    "    \n",
    "    for each in dataset:\n",
    "        total += int(each[index])\n",
    "    \n",
    "    avg = total / len(dataset)\n",
    "    \n",
    "    print('Total:',total)\n",
    "    print('Count:',len(dataset))\n",
    "    print('Average:',avg)\n",
    "    print('')\n",
    "    \n",
    "indexCalc(ask_posts,4)\n",
    "indexCalc(show_posts,4)"
   ]
  },
  {
   "cell_type": "markdown",
   "metadata": {},
   "source": [
    "### Comparing engagement by points"
   ]
  },
  {
   "cell_type": "code",
   "execution_count": 67,
   "metadata": {},
   "outputs": [
    {
     "name": "stdout",
     "output_type": "stream",
     "text": [
      "Total: 26268\n",
      "Count: 1744\n",
      "Average: 15.061926605504587\n",
      "\n",
      "Total: 32019\n",
      "Count: 1162\n",
      "Average: 27.555077452667813\n",
      "\n"
     ]
    }
   ],
   "source": [
    "indexCalc(ask_posts,3)\n",
    "indexCalc(show_posts,3)"
   ]
  },
  {
   "cell_type": "markdown",
   "metadata": {},
   "source": [
    "From this quick calculation, I can conclude that Ask posts receive more comments on average (~14 vs. 10.3 for Show posts) but much less points (~15 vs. 27.5 for Show posts)."
   ]
  },
  {
   "cell_type": "markdown",
   "metadata": {},
   "source": [
    "## Identifying the best time of day to submit an \"Ask HN\" post"
   ]
  },
  {
   "cell_type": "markdown",
   "metadata": {},
   "source": [
    "### To maximize comments\n",
    "\n",
    "By examining the dataset of Ask posts, I can begin to understand the best time of day to make a post (where the objective is to maximize comments). I'll start by calculating the number of posts and comments by hour created, and then tallying them up to identify the best hour.'"
   ]
  },
  {
   "cell_type": "code",
   "execution_count": 57,
   "metadata": {},
   "outputs": [
    {
     "name": "stdout",
     "output_type": "stream",
     "text": [
      "Top 5 hours for Ask Hacker News comments:\n",
      "15:00: 38.59 average comments per post\n",
      "02:00: 23.81 average comments per post\n",
      "20:00: 21.52 average comments per post\n",
      "16:00: 16.80 average comments per post\n",
      "21:00: 16.01 average comments per post\n"
     ]
    }
   ],
   "source": [
    "import datetime as dt\n",
    "\n",
    "result_list = []\n",
    "\n",
    "# Extracting needed data into a separate list\n",
    "for each in ask_posts:\n",
    "    result_list.append([each[6], int(each[4]), int(each[3])])\n",
    "\n",
    "# Creating frequency tables of the number of posts and comments by hour\n",
    "counts_by_hour, comments_by_hour = {}, {}\n",
    "\n",
    "for each in result_list:\n",
    "    date = dt.datetime.strptime(each[0], \"%m/%d/%Y %H:%M\")\n",
    "    hour = dt.datetime.strftime(date, \"%H\")\n",
    "    \n",
    "    if hour in counts_by_hour:\n",
    "        counts_by_hour[hour] += 1\n",
    "        comments_by_hour[hour] += int(each[1])\n",
    "    else:\n",
    "        counts_by_hour[hour] = 1\n",
    "        comments_by_hour[hour] = int(each[1])\n",
    "\n",
    "# Creating a list that calculates the average posts by hour\n",
    "avg_by_hour = []\n",
    "\n",
    "for each in counts_by_hour:\n",
    "    counts = counts_by_hour[each]\n",
    "    comments = comments_by_hour[each]\n",
    "    avg_by_hour.append([each, comments/counts])\n",
    "\n",
    "# Sorting the above list to be more easily readable\n",
    "\n",
    "swap_avg_by_hour = []\n",
    "\n",
    "for each in avg_by_hour:\n",
    "    swap_avg_by_hour.append([each[1], each[0]])\n",
    "\n",
    "sorted_swap = sorted(swap_avg_by_hour, reverse=True)\n",
    "\n",
    "# Displaying top 5 hours to post\n",
    "\n",
    "print('Top 5 hours for Ask Hacker News comments:')\n",
    "\n",
    "output = '{}: {:.2f} average comments per post'\n",
    "\n",
    "for each in sorted_swap[:5]:\n",
    "    time = dt.datetime.strptime(each[1], \"%H\")\n",
    "    time = dt.datetime.strftime(time, \"%H:%M\")\n",
    "    print(output.format(time, each[0]))"
   ]
  },
  {
   "cell_type": "markdown",
   "metadata": {},
   "source": [
    "Since the data is conveniently already in the timezone that I am in, I do not need to adjust the timezone. From this, I can see that the best times to post are in the mid-afternoon (3pm), late night (2am), or early evening (8pm). This is an interesting spread of times (wide range), suggesting that there may be different cohorts of users logging in from different time zones throughout the day. Having a more granular understanding (eg. IP addresses) of where posts are made from could help test this hypothesis."
   ]
  },
  {
   "cell_type": "markdown",
   "metadata": {},
   "source": [
    "### To maximize points"
   ]
  },
  {
   "cell_type": "code",
   "execution_count": 63,
   "metadata": {},
   "outputs": [
    {
     "name": "stdout",
     "output_type": "stream",
     "text": [
      "Top 5 hours for Ask Hacker News points:\n",
      "15:00: 29.99 average points per post\n",
      "13:00: 24.26 average points per post\n",
      "16:00: 23.35 average points per post\n",
      "17:00: 19.41 average points per post\n",
      "10:00: 18.68 average points per post\n"
     ]
    }
   ],
   "source": [
    "# Creating frequency tables for points by hour\n",
    "points_by_hour = {}\n",
    "\n",
    "for each in result_list:\n",
    "    date = dt.datetime.strptime(each[0], \"%m/%d/%Y %H:%M\")\n",
    "    hour = dt.datetime.strftime(date, \"%H\")\n",
    "    \n",
    "    if hour in points_by_hour:\n",
    "        points_by_hour[hour] += int(each[2])\n",
    "    else:\n",
    "        points_by_hour[hour] = int(each[2])\n",
    "\n",
    "# Creating a list that calculates the average points per post by hour\n",
    "avg_points_by_hour = []\n",
    "\n",
    "for each in points_by_hour:\n",
    "    counts = counts_by_hour[each]\n",
    "    points = points_by_hour[each]\n",
    "    avg_points_by_hour.append([each, points/counts])\n",
    "\n",
    "# Sorting the above list to be more easily readable\n",
    "\n",
    "swap_avg_points_by_hour = []\n",
    "\n",
    "for each in avg_points_by_hour:\n",
    "    swap_avg_points_by_hour.append([each[1], each[0]])\n",
    "\n",
    "sorted_points_swap = sorted(swap_avg_points_by_hour, reverse=True)\n",
    "\n",
    "# Displaying top 5 hours to post\n",
    "\n",
    "print('Top 5 hours for Ask Hacker News points:')\n",
    "\n",
    "output = '{}: {:.2f} average points per post'\n",
    "\n",
    "for each in sorted_points_swap[:5]:\n",
    "    time = dt.datetime.strptime(each[1], \"%H\")\n",
    "    time = dt.datetime.strftime(time, \"%H:%M\")\n",
    "    print(output.format(time, each[0]))"
   ]
  },
  {
   "cell_type": "markdown",
   "metadata": {},
   "source": [
    "For points, we see a narrower spread: the best time to post in order to receive the most points seems to be between 1pm and 5pm eastern, with 3pm being the ideal time. 3pm was also the idea time in terms of engagement (comments), and thus can be seen to be the ideal time to post an 'Ask HN' type post on Hacker News."
   ]
  }
 ],
 "metadata": {
  "kernelspec": {
   "display_name": "Python 3",
   "language": "python",
   "name": "python3"
  },
  "language_info": {
   "codemirror_mode": {
    "name": "ipython",
    "version": 3
   },
   "file_extension": ".py",
   "mimetype": "text/x-python",
   "name": "python",
   "nbconvert_exporter": "python",
   "pygments_lexer": "ipython3",
   "version": "3.7.6"
  }
 },
 "nbformat": 4,
 "nbformat_minor": 4
}
