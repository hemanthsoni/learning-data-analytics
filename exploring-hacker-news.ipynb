{
 "cells": [
  {
   "cell_type": "markdown",
   "metadata": {},
   "source": [
    "# Exploring Hacker News Posts\n",
    "### Hemanth Soni, June 2020\n",
    "\n",
    "---\n",
    "\n",
    "## Introduction and Overview\n",
    "\n",
    "The goal of this project is to analyze a dataset of posts from [Hacker News](https://news.ycombinator.com/) to understand...\n",
    "1. Do Ask HN or Show HN receive more comments on average?\n",
    "2. Do posts created at a certain time receive more comments on average?"
   ]
  },
  {
   "cell_type": "markdown",
   "metadata": {},
   "source": [
    "## Importing data\n",
    "\n",
    "I will start by importing the necessary data into the project: a subset of the [full data set from Kaggle](https://www.kaggle.com/hacker-news/hacker-news-posts). This subset was simplified by the Dataquest team to remove all submissions that didn't receive any comments, and then randomly sample the remaining submissions to a more manageable 20K rows (the original dataset has ~300k)."
   ]
  },
  {
   "cell_type": "code",
   "execution_count": 12,
   "metadata": {},
   "outputs": [],
   "source": [
    "# Opening file and saving to list\n",
    "from csv import reader\n",
    "opened_file = open('hacker_news_posts/hacker_news.csv')\n",
    "read_file = reader(opened_file)\n",
    "hn = list(read_file)\n",
    "\n",
    "# Splitting out header and table\n",
    "headers = hn[0]\n",
    "hn = hn[1:]"
   ]
  },
  {
   "cell_type": "markdown",
   "metadata": {},
   "source": [
    "## Splitting lists into sub-lists\n",
    "\n",
    "I'll now split out the list into three separate groups: one for Ask posts, one for Show posts, and one for everything else. This will make it easier to conduct the analysis on each type of post and compare them."
   ]
  },
  {
   "cell_type": "code",
   "execution_count": 14,
   "metadata": {},
   "outputs": [
    {
     "name": "stdout",
     "output_type": "stream",
     "text": [
      "Total Ask posts: 1744\n",
      "Total Show posts: 1162\n",
      "Other posts: 17194\n"
     ]
    }
   ],
   "source": [
    "ask_posts = []\n",
    "show_posts = []\n",
    "other_posts = []\n",
    "\n",
    "for each in hn:\n",
    "    title = each[1]\n",
    "    \n",
    "    if title.lower().startswith('ask hn'):\n",
    "        ask_posts.append(each)\n",
    "    elif title.lower().startswith('show hn'):\n",
    "        show_posts.append(each)\n",
    "    else:\n",
    "        other_posts.append(each)\n",
    "        \n",
    "print('Total Ask posts:',len(ask_posts))\n",
    "print('Total Show posts:',len(show_posts))\n",
    "print('Other posts:',len(other_posts))"
   ]
  },
  {
   "cell_type": "markdown",
   "metadata": {},
   "source": [
    "## Calculating average comments per type of post\n",
    "\n",
    "Now that I have each type of comment in its own list, I can determine if Ask or Show posts receive more comments on average. Shown below"
   ]
  },
  {
   "cell_type": "code",
   "execution_count": 20,
   "metadata": {},
   "outputs": [
    {
     "name": "stdout",
     "output_type": "stream",
     "text": [
      "Total comments: 24483\n",
      "Total posts: 1744\n",
      "Average comments: 14.038417431192661\n",
      "\n",
      "Total comments: 11988\n",
      "Total posts: 1162\n",
      "Average comments: 10.31669535283993\n",
      "\n"
     ]
    }
   ],
   "source": [
    "def commentCalc(dataset, index):\n",
    "    \n",
    "    total_comments = 0\n",
    "    \n",
    "    for each in dataset:\n",
    "        comments = int(each[index])\n",
    "        total_comments += comments\n",
    "    \n",
    "    avg_comments = total_comments / len(dataset)\n",
    "    \n",
    "    print('Total comments:',total_comments)\n",
    "    print('Total posts:',len(dataset))\n",
    "    print('Average comments:',avg_comments)\n",
    "    print('')\n",
    "    \n",
    "commentCalc(ask_posts,4)\n",
    "commentCalc(show_posts,4)"
   ]
  },
  {
   "cell_type": "markdown",
   "metadata": {},
   "source": [
    "From this quick calculation, I can conclude that typically, Ask posts receive more comments on average (~14 vs. 10.3 for Show posts). If I am seeking to maximize my interactions on the platform, I will likely want to make more Ask posts. For the remainder of the analysis, I'll focus only on those posts."
   ]
  },
  {
   "cell_type": "markdown",
   "metadata": {},
   "source": [
    "## Identifying the best time of day to post\n",
    "\n",
    "By examining the dataset of Ask posts, I can begin to understand the best time of day to make a post. I'll start by calculating the number of posts and comments by hour created."
   ]
  },
  {
   "cell_type": "code",
   "execution_count": null,
   "metadata": {},
   "outputs": [],
   "source": []
  }
 ],
 "metadata": {
  "kernelspec": {
   "display_name": "Python 3",
   "language": "python",
   "name": "python3"
  },
  "language_info": {
   "codemirror_mode": {
    "name": "ipython",
    "version": 3
   },
   "file_extension": ".py",
   "mimetype": "text/x-python",
   "name": "python",
   "nbconvert_exporter": "python",
   "pygments_lexer": "ipython3",
   "version": "3.7.6"
  }
 },
 "nbformat": 4,
 "nbformat_minor": 4
}
