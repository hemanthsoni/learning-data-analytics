{
 "cells": [
  {
   "cell_type": "markdown",
   "metadata": {},
   "source": [
    "# E-bay car sales analysis\n",
    "### Hemanth Soni, July 2020\n",
    "\n",
    "---\n",
    "\n",
    "The goal for this project is to clean and analyze a subset of eBay car sales data. The [original database](https://www.kaggle.com/orgesleka/used-cars-database/data) was uploaded to Kaggle, but [Dataquest](https://dataquest.io) has created a version that is smaller (50K rows) and dirtier to help practice data cleaning.\n",
    "\n",
    "The aim of this project is to clean the data and analyze the included used car listings."
   ]
  },
  {
   "cell_type": "markdown",
   "metadata": {},
   "source": [
    "## Importing data\n",
    "\n",
    "I'll start by setting up the working environment first"
   ]
  },
  {
   "cell_type": "code",
   "execution_count": 5,
   "metadata": {},
   "outputs": [],
   "source": [
    "#Importing libraries\n",
    "\n",
    "import numpy as np\n",
    "import pandas as pd\n",
    "\n",
    "# Loading CSV to file\n",
    "\n",
    "autos = pd.read_csv('car_data/autos.csv', encoding='Latin-1')"
   ]
  },
  {
   "cell_type": "code",
   "execution_count": null,
   "metadata": {},
   "outputs": [],
   "source": [
    "# Quick exploration\n",
    "\n",
    "autos.info()\n",
    "print()\n",
    "print(autos.head())\n",
    "print()\n",
    "autos.describe(include='all')"
   ]
  },
  {
   "cell_type": "markdown",
   "metadata": {},
   "source": [
    "From this quick scan, a few things become apparent:\n",
    "* Most columns contain string types, but some (eg. odometer, price) could probably be integers or floats, and some (eg. damage) could probably be boolean\n",
    "* The data looks mostly complete, with a few columns that have some null data but nothing that stands out too much\n",
    "* The 'seller' and 'offerType' column have every row except one containing the same values, could be candidates to get dropped\n",
    "* There seem to be some errors in the yearOfRegistration column; the minimum is too early and the max is too high, but most values seem right\n",
    "* The power also seems too high for the max level\n",
    "* A \"0\" month of registration doesn't make sense given there's a 12'th month of registraton as well; will need to dig into this error\n",
    "* There are some 4-digit postal codes; need to dig into if that makes sense\n",
    "* The number of pictures is 0 across the board? Should dig into that column as well"
   ]
  },
  {
   "cell_type": "markdown",
   "metadata": {},
   "source": [
    "## Cleaning data\n",
    "\n",
    "Starting with some basic header hygiene:"
   ]
  },
  {
   "cell_type": "code",
   "execution_count": 15,
   "metadata": {},
   "outputs": [],
   "source": [
    "# Replacing columns in place w/ snakecase names\n",
    "autos.columns = ['date_crawled', 'name', 'seller', 'offer_type', 'price', 'abtest',\n",
    "       'vehicle_type', 'registration_year', 'gearbox', 'ps_power', 'model',\n",
    "       'odometer', 'registration_month', 'fuel_type', 'brand',\n",
    "       'unrepaired_damage', 'ad_created', 'num_pics', 'postal',\n",
    "       'last_seen']"
   ]
  },
  {
   "cell_type": "markdown",
   "metadata": {},
   "source": [
    "Next, replacing data that can be integers"
   ]
  },
  {
   "cell_type": "code",
   "execution_count": 49,
   "metadata": {},
   "outputs": [
    {
     "name": "stdout",
     "output_type": "stream",
     "text": [
      "0        1421\n",
      "500       781\n",
      "1500      734\n",
      "2500      643\n",
      "1200      639\n",
      "         ... \n",
      "5485        1\n",
      "33300       1\n",
      "4220        1\n",
      "3485        1\n",
      "18430       1\n",
      "Name: price, Length: 2357, dtype: int64\n"
     ]
    }
   ],
   "source": [
    "# Taking a look at what the price format typically looks like\n",
    "print(autos['price'].value_counts())\n",
    "\n",
    "# Removing dollar signs and commas to leave only numbers\n",
    "autos['price'] = autos['price'].str.replace('$','').str.replace(',','').astype(int)"
   ]
  },
  {
   "cell_type": "code",
   "execution_count": 54,
   "metadata": {},
   "outputs": [
    {
     "name": "stdout",
     "output_type": "stream",
     "text": [
      "150000    32424\n",
      "125000     5170\n",
      "100000     2169\n",
      "90000      1757\n",
      "80000      1436\n",
      "70000      1230\n",
      "60000      1164\n",
      "50000      1027\n",
      "5000        967\n",
      "40000       819\n",
      "30000       789\n",
      "20000       784\n",
      "10000       264\n",
      "Name: odometer_km, dtype: int64\n"
     ]
    }
   ],
   "source": [
    "# Doing the same for the odometer column\n",
    "print(autos['odometer'].value_counts())\n",
    "\n",
    "# Removing commas and \"km\" from each item\n",
    "autos['odometer'] = autos['odometer'].str.replace('km','').str.replace(',','').astype(int)\n",
    "\n",
    "# Renaming the header so that the information doesn't get lost\n",
    "autos.rename(columns={'odometer':'odometer_km'}, inplace=True)"
   ]
  },
  {
   "cell_type": "markdown",
   "metadata": {},
   "source": [
    "Next, digging into the seller and offer_type columns to see if those columns can safely be dropped"
   ]
  },
  {
   "cell_type": "code",
   "execution_count": null,
   "metadata": {},
   "outputs": [],
   "source": [
    "# Exploring some of the things mentioned above\n",
    "\n",
    "print(autos['seller'].value_counts())\n",
    "print()\n",
    "print(autos['offer_type'].value_counts())\n",
    "print()\n",
    "print(autos[autos['seller'] != 'privat'])\n",
    "print()\n",
    "print(autos[autos['offer_type'] != 'Angebot'])"
   ]
  },
  {
   "cell_type": "code",
   "execution_count": null,
   "metadata": {},
   "outputs": [],
   "source": [
    "# It's unclear why these are different (don't appear to be obious errors in any way); I'll drop these columns.\n",
    "autos = autos.drop(columns=['seller','offer_type'])"
   ]
  },
  {
   "cell_type": "code",
   "execution_count": 69,
   "metadata": {},
   "outputs": [],
   "source": [
    "# Checking into the other one as well..\n",
    "autos['num_pics'].value_counts()\n",
    "autos = autos.drop(columns='num_pics')"
   ]
  },
  {
   "cell_type": "markdown",
   "metadata": {},
   "source": [
    "Now, exploring and cleaning up the two colums wer started with: odometer and price"
   ]
  },
  {
   "cell_type": "code",
   "execution_count": null,
   "metadata": {},
   "outputs": [],
   "source": [
    "# Checking the odometer column\n",
    "print(autos['price'].value_counts().sort_index())\n",
    "print()\n",
    "\n",
    "# That one seems fine; checking the price column\n",
    "print(autos['price'].value_counts().sort_index())\n",
    "\n",
    "# Digging into the maximums a bit...\n",
    "print(autos['price'].value_counts().sort_index().tail(30))\n",
    "\n",
    "# The numbers seem to jump up radically, and look 'fake' all of a sudden after the 350k mark; given how few cars are up there, we'll drop them\n",
    "# We'll also drop the 0s, since I'm pretty sure eBay doesn't let you list at a 0 price at all.\n",
    "autos = autos[autos['price'].between(1,350001)]"
   ]
  },
  {
   "cell_type": "markdown",
   "metadata": {},
   "source": [
    "We also know we have some cleaning to do with the registration year, so let's get that done."
   ]
  },
  {
   "cell_type": "code",
   "execution_count": 106,
   "metadata": {},
   "outputs": [
    {
     "name": "stdout",
     "output_type": "stream",
     "text": [
      "count    48565.000000\n",
      "mean      2004.755421\n",
      "std         88.643887\n",
      "min       1000.000000\n",
      "25%       1999.000000\n",
      "50%       2004.000000\n",
      "75%       2008.000000\n",
      "max       9999.000000\n",
      "Name: registration_year, dtype: float64\n",
      "\n",
      "1000    1\n",
      "1001    1\n",
      "1111    1\n",
      "1800    2\n",
      "Name: registration_year, dtype: int64\n",
      "\n",
      "2015-06-11    0.000021\n",
      "2015-08-10    0.000021\n",
      "2015-09-09    0.000021\n",
      "2015-11-10    0.000021\n",
      "2015-12-05    0.000021\n",
      "                ...   \n",
      "2016-04-03    0.038855\n",
      "2016-04-04    0.036858\n",
      "2016-04-05    0.011819\n",
      "2016-04-06    0.003253\n",
      "2016-04-07    0.001256\n",
      "Name: ad_created, Length: 76, dtype: float64\n"
     ]
    }
   ],
   "source": [
    "print(autos[\"registration_year\"].describe())\n",
    "print()\n",
    "\n",
    "# Checking in on these values\n",
    "print(autos[autos['registration_year'] < 1900]['registration_year'].value_counts().sort_index())\n",
    "print()\n",
    "\n",
    "# To figure out the right max, I should see when the latest add was created\n",
    "print(autos['ad_created'].str[:10].value_counts(normalize=True, dropna=False).sort_index())\n",
    "\n",
    "# None of the cars can be from later than 2016, since the latest ad was created then. This way, I know which rows to drop and can do so...\n",
    "autos = autos[autos['registration_year'].between(1900,2016)]"
   ]
  },
  {
   "cell_type": "markdown",
   "metadata": {},
   "source": [
    "## Analyzing data\n",
    "\n",
    "I can now take a look at this data for some basic analysis. I'll start by looking into the brands"
   ]
  },
  {
   "cell_type": "code",
   "execution_count": 109,
   "metadata": {},
   "outputs": [
    {
     "name": "stdout",
     "output_type": "stream",
     "text": [
      "volkswagen        9862\n",
      "bmw               5137\n",
      "opel              5022\n",
      "mercedes_benz     4503\n",
      "audi              4041\n",
      "ford              3263\n",
      "renault           2201\n",
      "peugeot           1393\n",
      "fiat              1197\n",
      "seat               853\n",
      "skoda              766\n",
      "nissan             713\n",
      "mazda              709\n",
      "smart              661\n",
      "citroen            654\n",
      "toyota             593\n",
      "hyundai            468\n",
      "sonstige_autos     458\n",
      "volvo              427\n",
      "mini               409\n",
      "mitsubishi         384\n",
      "honda              366\n",
      "kia                330\n",
      "alfa_romeo         310\n",
      "porsche            286\n",
      "suzuki             277\n",
      "chevrolet          266\n",
      "chrysler           164\n",
      "dacia              123\n",
      "daihatsu           117\n",
      "jeep               106\n",
      "subaru             100\n",
      "land_rover          98\n",
      "saab                77\n",
      "jaguar              73\n",
      "daewoo              70\n",
      "trabant             65\n",
      "rover               62\n",
      "lancia              50\n",
      "lada                27\n",
      "Name: brand, dtype: int64\n"
     ]
    }
   ],
   "source": [
    "print(autos['brand'].value_counts())"
   ]
  },
  {
   "cell_type": "markdown",
   "metadata": {},
   "source": [
    "It makes sense that German brands as well represented. Some of the other columns are in German, so it's likely that this data is an export from that geography. For the sake of learning, let's try to figure out which brand has the highest mean price."
   ]
  },
  {
   "cell_type": "code",
   "execution_count": null,
   "metadata": {},
   "outputs": [],
   "source": [
    "# Creating a dictionary to hold the data\n",
    "brand_subset = []\n",
    "brand_price = {}\n",
    "\n",
    "# Figuring out the top 30 brands by frequency (more common) and adding them to the dictionary\n",
    "brand_subset = autos['brand'].value_counts().head(30).index\n",
    "\n",
    "# Looping over each one and figuring out the mean price\n",
    "for each in brand_subset:\n",
    "    brandlist = autos[autos['brand'] == each]\n",
    "    meanprice = brandlist['price'].mean()\n",
    "    brand_price[each] = round(meanprice,2)\n",
    "    \n",
    "# Printing out the top 10 most expensive (on average) brands\n",
    "print(brand_price)\n",
    "print()\n",
    "sorted_brands = sorted(brand_price.items() ,  key=lambda x: x[1])\n",
    "for elem in sorted_brands:\n",
    "    print(elem[0] , \":\" , elem[1] )"
   ]
  },
  {
   "cell_type": "markdown",
   "metadata": {},
   "source": [
    "We can see that there's a pretty big gap between Porsche and everyone else."
   ]
  }
 ],
 "metadata": {
  "kernelspec": {
   "display_name": "Python 3",
   "language": "python",
   "name": "python3"
  },
  "language_info": {
   "codemirror_mode": {
    "name": "ipython",
    "version": 3
   },
   "file_extension": ".py",
   "mimetype": "text/x-python",
   "name": "python",
   "nbconvert_exporter": "python",
   "pygments_lexer": "ipython3",
   "version": "3.8.3"
  }
 },
 "nbformat": 4,
 "nbformat_minor": 4
}
